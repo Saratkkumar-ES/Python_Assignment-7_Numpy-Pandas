{
 "cells": [
  {
   "cell_type": "markdown",
   "id": "615d1a67-87b6-47f7-8248-b746746c3df7",
   "metadata": {},
   "source": [
    "# 1 Create a numpy array containing the numbers from 1 to 10, and then reshape it to a 2x5 matrix."
   ]
  },
  {
   "cell_type": "code",
   "execution_count": 38,
   "id": "defc220d-3687-453b-8c9f-c26b8742cec2",
   "metadata": {},
   "outputs": [],
   "source": [
    "# Importing Libraries\n",
    "import numpy as np\n",
    "import pandas as pd"
   ]
  },
  {
   "cell_type": "code",
   "execution_count": 14,
   "id": "9ed3f177-e953-4b44-9a7d-b53a2370a73d",
   "metadata": {},
   "outputs": [
    {
     "name": "stdout",
     "output_type": "stream",
     "text": [
      "[ 1  2  3  4  5  6  7  8  9 10]\n"
     ]
    }
   ],
   "source": [
    "# Creating array\n",
    "arr = np.arange(1, 11)\n",
    "print(arr)"
   ]
  },
  {
   "cell_type": "code",
   "execution_count": 16,
   "id": "db175690-2d3d-418b-9d05-67f2104ede65",
   "metadata": {},
   "outputs": [
    {
     "name": "stdout",
     "output_type": "stream",
     "text": [
      "2x5 Matrix:\n",
      " [[ 1  2  3  4  5]\n",
      " [ 6  7  8  9 10]]\n"
     ]
    }
   ],
   "source": [
    "# Reshaping to 2x5 matrix\n",
    "reshaped_arr = arr.reshape(2, 5)\n",
    "print(\"2x5 Matrix:\\n\", reshaped_arr)"
   ]
  },
  {
   "cell_type": "markdown",
   "id": "115d7cad-22fa-41b0-8ee0-7c6083e251de",
   "metadata": {},
   "source": [
    "# 2 Create a numpy array containing the numbers from 1 to 20, and then extract the elements between the 5th and 15th index."
   ]
  },
  {
   "cell_type": "code",
   "execution_count": 28,
   "id": "4f27cd95-0e9d-4b6e-9602-dbd89f115e80",
   "metadata": {},
   "outputs": [
    {
     "name": "stdout",
     "output_type": "stream",
     "text": [
      "[ 1  2  3  4  5  6  7  8  9 10 11 12 13 14 15 16 17 18 19 20]\n"
     ]
    }
   ],
   "source": [
    "# Create array from 1 to 20\n",
    "arr = np.arange(1, 21)\n",
    "print (arr)"
   ]
  },
  {
   "cell_type": "code",
   "execution_count": 30,
   "id": "278b1134-55af-4060-a2a5-76992be6f866",
   "metadata": {},
   "outputs": [
    {
     "name": "stdout",
     "output_type": "stream",
     "text": [
      "Elements between the 5th and 15th are: [ 6  7  8  9 10 11 12 13 14 15]\n"
     ]
    }
   ],
   "source": [
    "# Extracting elements \n",
    "sliced_arr = arr[5:15]\n",
    "print(\"Elements between the 5th and 15th are:\", sliced_arr)"
   ]
  },
  {
   "cell_type": "markdown",
   "id": "093edd24-ce1a-46aa-b845-556eb2998d23",
   "metadata": {},
   "source": [
    "# 3 Create a Pandas series with the following data: {'apples': 3, 'bananas': 2, 'oranges': 1}. Then, add a new item to the series with the key 'pears' and the value 4"
   ]
  },
  {
   "cell_type": "code",
   "execution_count": 44,
   "id": "fa9115e1-cb23-4d09-9b87-c6dd42dc777c",
   "metadata": {},
   "outputs": [
    {
     "name": "stdout",
     "output_type": "stream",
     "text": [
      "apples     3\n",
      "bananas    2\n",
      "oranges    1\n",
      "dtype: int64\n"
     ]
    }
   ],
   "source": [
    "# Create pd series\n",
    "fruit_series = pd.Series({'apples': 3, 'bananas': 2, 'oranges': 1})\n",
    "\n",
    "# Printing series\n",
    "print(fruit_series)"
   ]
  },
  {
   "cell_type": "code",
   "execution_count": 42,
   "id": "ba7c7458-cbaa-4da8-8592-167e48a0e44e",
   "metadata": {},
   "outputs": [
    {
     "name": "stdout",
     "output_type": "stream",
     "text": [
      "Updated Series:\n",
      " apples     3\n",
      "bananas    2\n",
      "oranges    1\n",
      "pears      4\n",
      "dtype: int64\n"
     ]
    }
   ],
   "source": [
    "# Add 'pears'\n",
    "fruit_series['pears'] = 4\n",
    "print(\"Updated Series:\\n\", fruit_series)"
   ]
  },
  {
   "cell_type": "markdown",
   "id": "e12e2e3b-90af-4f86-8b25-0586229ee002",
   "metadata": {},
   "source": [
    "# 4 Create a dataframe with the following columns: name, age, and gender. The dataframe should have 10 rows of data.\n"
   ]
  },
  {
   "cell_type": "code",
   "execution_count": 46,
   "id": "1a93e02c-9c12-474d-9733-f69e35f24a90",
   "metadata": {},
   "outputs": [],
   "source": [
    "# Creating sample data\n",
    "data = {\n",
    "    'name': ['Ann', 'Bob', 'Charlie', 'David', 'Alina', 'Frank', 'Grace', 'Mary', 'Ian', 'Jack'],\n",
    "    'age': [25, 32, 28, 45, 22, 36, 41, 27, 30, 29],\n",
    "    'gender': ['F', 'M', 'M', 'M', 'F', 'M', 'F', 'F', 'M', 'M']\n",
    "}"
   ]
  },
  {
   "cell_type": "code",
   "execution_count": 48,
   "id": "269bc4d5-4729-445c-83aa-a8cd1b7adb23",
   "metadata": {},
   "outputs": [
    {
     "name": "stdout",
     "output_type": "stream",
     "text": [
      "DataFrame:\n",
      "       name  age gender\n",
      "0      Ann   25      F\n",
      "1      Bob   32      M\n",
      "2  Charlie   28      M\n",
      "3    David   45      M\n",
      "4    Alina   22      F\n",
      "5    Frank   36      M\n",
      "6    Grace   41      F\n",
      "7     Mary   27      F\n",
      "8      Ian   30      M\n",
      "9     Jack   29      M\n"
     ]
    }
   ],
   "source": [
    "# Creating Dataframe\n",
    "df = pd.DataFrame(data)\n",
    "print(\"DataFrame:\\n\", df)"
   ]
  },
  {
   "cell_type": "markdown",
   "id": "df047bb8-650d-4090-8d84-16a4d1d0b5b7",
   "metadata": {},
   "source": [
    "# 5 Add a new column to the data frame created in question 4, called occupation. The values for this column should be Programmer, Manager, and Analyst, corresponding to the rows in the dataframe."
   ]
  },
  {
   "cell_type": "code",
   "execution_count": 50,
   "id": "c791cb06-dfdb-41fe-8191-4bc636b0d80d",
   "metadata": {},
   "outputs": [],
   "source": [
    "df['occupation'] = ['Programmer', 'Manager', 'Analyst', 'Manager', 'Programmer', \n",
    "                    'Analyst', 'Manager', 'Programmer', 'Analyst', 'Manager']"
   ]
  },
  {
   "cell_type": "code",
   "execution_count": 52,
   "id": "b9831f7a-5957-4a23-af0e-1f520071873e",
   "metadata": {},
   "outputs": [
    {
     "name": "stdout",
     "output_type": "stream",
     "text": [
      "DataFrame with Occupation:\n",
      "       name  age gender  occupation\n",
      "0      Ann   25      F  Programmer\n",
      "1      Bob   32      M     Manager\n",
      "2  Charlie   28      M     Analyst\n",
      "3    David   45      M     Manager\n",
      "4    Alina   22      F  Programmer\n",
      "5    Frank   36      M     Analyst\n",
      "6    Grace   41      F     Manager\n",
      "7     Mary   27      F  Programmer\n",
      "8      Ian   30      M     Analyst\n",
      "9     Jack   29      M     Manager\n"
     ]
    }
   ],
   "source": [
    "print(\"DataFrame with Occupation:\\n\", df)"
   ]
  },
  {
   "cell_type": "markdown",
   "id": "c41e29a2-c220-4d78-89b3-0097924504e1",
   "metadata": {},
   "source": [
    "# 6 Select the rows of the dataframe where the age is greater than or equal to 30."
   ]
  },
  {
   "cell_type": "code",
   "execution_count": 55,
   "id": "2ee81c42-794f-40bb-98f9-70f925b60991",
   "metadata": {},
   "outputs": [
    {
     "name": "stdout",
     "output_type": "stream",
     "text": [
      "People with age >= 30:\n",
      "     name  age gender occupation\n",
      "1    Bob   32      M    Manager\n",
      "3  David   45      M    Manager\n",
      "5  Frank   36      M    Analyst\n",
      "6  Grace   41      F    Manager\n",
      "8    Ian   30      M    Analyst\n"
     ]
    }
   ],
   "source": [
    "# Filter rows where age is 30 and more\n",
    "age_filtered_df = df[df['age'] >= 30]\n",
    "\n",
    "print(\"People with age >= 30:\\n\", age_filtered_df)"
   ]
  },
  {
   "cell_type": "markdown",
   "id": "e4df518f-7966-4460-9806-fdeaf37a1abb",
   "metadata": {},
   "source": [
    "# 7 Convert this dataframe to a csv file and read that csv file, finally display the contents"
   ]
  },
  {
   "cell_type": "code",
   "execution_count": 57,
   "id": "4b9c9de4-f5c9-41b1-81f3-108f678c6fc5",
   "metadata": {},
   "outputs": [],
   "source": [
    "# Save to CSV\n",
    "df.to_csv(\"people_data.csv\", index=False)"
   ]
  },
  {
   "cell_type": "code",
   "execution_count": 59,
   "id": "15f4a711-0db1-4563-9669-80e01c2bf1b1",
   "metadata": {},
   "outputs": [
    {
     "name": "stdout",
     "output_type": "stream",
     "text": [
      "Data from CSV:\n",
      "       name  age gender  occupation\n",
      "0      Ann   25      F  Programmer\n",
      "1      Bob   32      M     Manager\n",
      "2  Charlie   28      M     Analyst\n",
      "3    David   45      M     Manager\n",
      "4    Alina   22      F  Programmer\n",
      "5    Frank   36      M     Analyst\n",
      "6    Grace   41      F     Manager\n",
      "7     Mary   27      F  Programmer\n",
      "8      Ian   30      M     Analyst\n",
      "9     Jack   29      M     Manager\n"
     ]
    }
   ],
   "source": [
    "# Read the CSV\n",
    "df_from_csv = pd.read_csv(\"people_data.csv\")\n",
    "\n",
    "print(\"Data from CSV:\\n\", df_from_csv)"
   ]
  }
 ],
 "metadata": {
  "kernelspec": {
   "display_name": "Python [conda env:base] *",
   "language": "python",
   "name": "conda-base-py"
  },
  "language_info": {
   "codemirror_mode": {
    "name": "ipython",
    "version": 3
   },
   "file_extension": ".py",
   "mimetype": "text/x-python",
   "name": "python",
   "nbconvert_exporter": "python",
   "pygments_lexer": "ipython3",
   "version": "3.12.7"
  }
 },
 "nbformat": 4,
 "nbformat_minor": 5
}
